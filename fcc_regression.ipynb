{
  "cells": [
    {
      "cell_type": "markdown",
      "metadata": {
        "id": "view-in-github",
        "colab_type": "text"
      },
      "source": [
        "<a href=\"https://colab.research.google.com/github/Pradeep1070/Seoul-Bike-Sharing-Demand-Prediction/blob/main/fcc_regression.ipynb\" target=\"_parent\"><img src=\"https://colab.research.google.com/assets/colab-badge.svg\" alt=\"Open In Colab\"/></a>"
      ]
    },
    {
      "cell_type": "code",
      "execution_count": null,
      "metadata": {
        "id": "DnITcJzJQPyf"
      },
      "outputs": [],
      "source": [
        "# @title\n",
        "import pandas as pd\n",
        "import numpy as np\n",
        "import matplotlib.pyplot as plt\n",
        "%matplotlib inline\n",
        "import seaborn as sns\n",
        "from sklearn.preprocessing import StandardScaler\n",
        "from imblearn.over_sampling import RandomOverSampler\n",
        "import copy\n",
        "import tensorflow as tf\n",
        "from sklearn.linear_model import LinearRegression\n",
        "from sklearn.metrics import mean_squared_error"
      ]
    },
    {
      "cell_type": "markdown",
      "metadata": {
        "id": "UCIkUyOmJQzd"
      },
      "source": [
        "### Data Set"
      ]
    },
    {
      "cell_type": "code",
      "execution_count": null,
      "metadata": {
        "id": "_DyRRgPBT6MW"
      },
      "outputs": [],
      "source": [
        "from google.colab import drive\n",
        "drive.mount('/content/drive')"
      ]
    },
    {
      "cell_type": "code",
      "execution_count": null,
      "metadata": {
        "id": "jIROaIXbRgVo"
      },
      "outputs": [],
      "source": [
        "cols = [\"bike_count\", \"hour\", \"temp\", \"humidity\", \"wind\", \"visibility\", \"dew_pt_temp\", \"radiation\", \"rain\", \"snow\", \"functional\"]\n",
        "df = pd.read_csv('/content/drive/MyDrive/Colab Notebooks/Practises/SeoulBikeData.csv', encoding='Latin-1').drop(['Date','Holiday','Seasons'], axis=1)\n",
        "df.head()"
      ]
    },
    {
      "cell_type": "code",
      "execution_count": null,
      "metadata": {
        "id": "33L7ixoXYDNS"
      },
      "outputs": [],
      "source": [
        "df.columns = cols\n",
        "df['functional'] = (df['functional'] == \"Yes\").astype(int)\n",
        "df = df[df['hour']==12]\n",
        "df = df.drop(['hour'], axis=1)\n",
        "df.head()"
      ]
    },
    {
      "cell_type": "code",
      "execution_count": null,
      "metadata": {
        "id": "Vd8Km46TnqQF"
      },
      "outputs": [],
      "source": [
        "for col in df.columns[1:]:\n",
        "  plt.scatter (df[col],df['bike_count'])\n",
        "  plt.title(col)\n",
        "  plt.xlabel(col)\n",
        "  plt.ylabel('bike_count_at_noon')\n",
        "  plt.legend()\n",
        "  plt.show()"
      ]
    },
    {
      "cell_type": "code",
      "execution_count": null,
      "metadata": {
        "id": "csx3-Sn4ouGO"
      },
      "outputs": [],
      "source": [
        "df = df.drop(['wind','visibility', 'functional'], axis = 1)\n",
        "df.head()"
      ]
    },
    {
      "cell_type": "markdown",
      "metadata": {
        "id": "1so6XwAuK45s"
      },
      "source": [
        "### Train Test Valid"
      ]
    },
    {
      "cell_type": "code",
      "execution_count": null,
      "metadata": {
        "id": "kfBLNrynvuJQ"
      },
      "outputs": [],
      "source": [
        "train, val, test = np.split(df.sample(frac=1), [int(len(df)*0.6), int(len(df)*0.8)])"
      ]
    },
    {
      "cell_type": "code",
      "execution_count": null,
      "metadata": {
        "id": "LhZBiWVYVkcK"
      },
      "outputs": [],
      "source": [
        "def xy_split(dataf, y_label, x_labels=None):\n",
        "  dataf_new = copy.deepcopy(dataf)\n",
        "\n",
        "  if x_labels is None:\n",
        "    x_data = dataf_new[[l for l in dataf.columns if l != y_label]].values\n",
        "  else:\n",
        "    if len(x_labels) == 1:\n",
        "      x_data = dataf_new[x_labels[0]].values.reshape(-1,1)\n",
        "    else:\n",
        "      x_data = dataf_new[x_labels].values\n",
        "\n",
        "  y_data = dataf_new[y_label].values.reshape(-1,1)\n",
        "  data = np.hstack((x_data,y_data))\n",
        "\n",
        "  return data, x_data, y_data"
      ]
    },
    {
      "cell_type": "code",
      "execution_count": null,
      "metadata": {
        "id": "s-5Lsl4fOXzA"
      },
      "outputs": [],
      "source": [
        "train, val, test = np.split(df.sample(frac=1), [int(len(df)*0.6), int(len(df)*0.8)])\n",
        "\n",
        "_, x_train_temp, y_train_temp,  = xy_split(train, 'bike_count', x_labels=['temp'])\n",
        "_, x_val_temp, y_val_temp,  = xy_split(val, 'bike_count', x_labels=['temp'])\n",
        "_, x_test_temp, y_test_temp,  = xy_split(test, 'bike_count', x_labels=['temp'])\n",
        "\n",
        "_, x_train, y_train = xy_split(train, 'bike_count', x_labels=df.columns[1:])\n",
        "_, x_test, y_test = xy_split(test, 'bike_count', x_labels=df.columns[1:])\n",
        "_, x_val, y_val = xy_split(val, 'bike_count', x_labels=df.columns[1:])"
      ]
    },
    {
      "cell_type": "markdown",
      "metadata": {
        "id": "OL64k2miH4HR"
      },
      "source": [
        "### Simple Linear Reg"
      ]
    },
    {
      "cell_type": "code",
      "execution_count": null,
      "metadata": {
        "id": "GuR4aBbQclm-"
      },
      "outputs": [],
      "source": [
        "lin_reg = LinearRegression()\n",
        "lin_reg.fit(x_train_temp, y_train_temp)"
      ]
    },
    {
      "cell_type": "code",
      "execution_count": null,
      "metadata": {
        "id": "vG2KeODzpIXE"
      },
      "outputs": [],
      "source": [
        "print(lin_reg.coef_, lin_reg.intercept_)"
      ]
    },
    {
      "cell_type": "code",
      "execution_count": null,
      "metadata": {
        "id": "mUgkHPBDonbe"
      },
      "outputs": [],
      "source": [
        "lin_reg.score(x_test_temp, y_test_temp) #higher this val higher these numbers corelate"
      ]
    },
    {
      "cell_type": "code",
      "execution_count": null,
      "metadata": {
        "id": "d0-6XtO3p8tC"
      },
      "outputs": [],
      "source": [
        "y_preds = lin_reg.predict(x_test_temp)"
      ]
    },
    {
      "cell_type": "code",
      "execution_count": null,
      "metadata": {
        "id": "CcL05DSdpEBY"
      },
      "outputs": [],
      "source": [
        "plt.figure(figsize=(6,4))\n",
        "plt.scatter(x_train_temp, y_train_temp, label = 'Data', color='Blue')\n",
        "plt.xlabel('temp')\n",
        "plt.ylabel('no of bike rentals')\n",
        "\n",
        "x = tf.linspace(-20,40,100)\n",
        "plt.plot(x, lin_reg.predict(np.array(x).reshape(-1,1)), label = 'pred', color = 'red')\n",
        "\n",
        "plt.legend()\n",
        "plt.show()"
      ]
    },
    {
      "cell_type": "code",
      "execution_count": null,
      "metadata": {
        "id": "BLD4k2rKO1Fc"
      },
      "outputs": [],
      "source": [
        "mean_squared_error(lin_reg.predict(x_val_temp), y_val_temp)"
      ]
    },
    {
      "cell_type": "markdown",
      "metadata": {
        "id": "caJQDZsiIAQ6"
      },
      "source": [
        "### Multiple Linear Regression"
      ]
    },
    {
      "cell_type": "code",
      "execution_count": null,
      "metadata": {
        "id": "Jonx_nCNIEKA"
      },
      "outputs": [],
      "source": [
        "mult_lin_reg = LinearRegression()\n",
        "mult_lin_reg.fit(x_train,y_train)"
      ]
    },
    {
      "cell_type": "code",
      "execution_count": null,
      "metadata": {
        "id": "oAxTLZH2JeYJ"
      },
      "outputs": [],
      "source": [
        "mult_lin_reg.score(x_test,y_test)"
      ]
    },
    {
      "cell_type": "code",
      "execution_count": null,
      "metadata": {
        "id": "9pb-bj8IJkBi"
      },
      "outputs": [],
      "source": [
        "print(mult_lin_reg.coef_, mult_lin_reg.intercept_)"
      ]
    },
    {
      "cell_type": "code",
      "execution_count": null,
      "metadata": {
        "id": "IkTQudSoPrXU"
      },
      "outputs": [],
      "source": [
        "mean_squared_error(mult_lin_reg.predict(x_val), y_val)"
      ]
    },
    {
      "cell_type": "markdown",
      "metadata": {
        "id": "ZAeNT1rAoQNQ"
      },
      "source": [
        "### neural networks for simple linear regression\n",
        "\n",
        "\n",
        "\n"
      ]
    },
    {
      "cell_type": "code",
      "execution_count": null,
      "metadata": {
        "id": "s1krz1WIuJVN"
      },
      "outputs": [],
      "source": [
        "def plot_loss(history):\n",
        "  plt.figure(figsize=(5,3))\n",
        "  plt.plot(history.history['loss'], label='loss')\n",
        "  plt.plot(history.history['val_loss'], label='val_loss')\n",
        "  plt.xlabel('epochs')\n",
        "  plt.ylabel('MSE')\n",
        "  plt.legend()\n",
        "  plt.grid(True)\n",
        "  plt.show()"
      ]
    },
    {
      "cell_type": "code",
      "execution_count": null,
      "metadata": {
        "id": "pCpsPQUUqau0"
      },
      "outputs": [],
      "source": [
        "temp_normalizer = tf.keras.layers.Normalization(input_shape=(1,), axis=None)\n",
        "temp_normalizer.adapt(x_train_temp.reshape(-1))\n",
        "\n",
        "temp_nn_model = tf.keras.Sequential([\n",
        "    temp_normalizer,\n",
        "    tf.keras.layers.Dense(1) # having just one node as well as not having an activation function makes the network linear\n",
        "])\n",
        "\n",
        "temp_nn_model.compile(\n",
        "    loss = \"mean_squared_error\",\n",
        "    optimizer=tf.keras.optimizers.Adam(learning_rate=1)\n",
        ")\n",
        "\n",
        "history = temp_nn_model.fit(\n",
        "    x_train_temp.reshape(-1), y_train_temp,\n",
        "    epochs = 1000,\n",
        "    validation_data = (x_val_temp.reshape(-1),y_val_temp),\n",
        "    verbose = 0\n",
        "    )\n"
      ]
    },
    {
      "cell_type": "code",
      "execution_count": null,
      "metadata": {
        "id": "eV0tb5Xe3LNA"
      },
      "outputs": [],
      "source": [
        "plot_loss(history)"
      ]
    },
    {
      "cell_type": "code",
      "execution_count": null,
      "metadata": {
        "id": "HFuzCHkq4Z-_"
      },
      "outputs": [],
      "source": [
        "plt.figure(figsize=(6,4))\n",
        "plt.scatter(x_train_temp, y_train_temp, label = 'Data', color='Blue')\n",
        "plt.xlabel('temp')\n",
        "plt.ylabel('no of bike rentals')\n",
        "\n",
        "x = tf.linspace(-20,40,100)\n",
        "plt.plot(x, temp_nn_model.predict(np.array(x).reshape(-1,1)), label = 'pred', color = 'red')\n",
        "\n",
        "plt.legend()\n",
        "plt.show()"
      ]
    },
    {
      "cell_type": "code",
      "execution_count": null,
      "metadata": {
        "id": "KkVhPS-RAzT6"
      },
      "outputs": [],
      "source": [
        "temp_nn_model.evaluate(x_val_temp,y_val_temp)"
      ]
    },
    {
      "cell_type": "markdown",
      "metadata": {
        "id": "YnFmCREmCYuz"
      },
      "source": [
        "Learning rarte vs mse vs epochs to converge\n",
        "\n",
        "0.1 - 139827.984375 - 1000\n",
        "\n",
        "1 - 136041.515625 - 200\n",
        "\n",
        "0.01 - 509329.4375 - 1000 (linear graph)"
      ]
    },
    {
      "cell_type": "code",
      "execution_count": null,
      "metadata": {
        "id": "lgzSrSWjALsq"
      },
      "outputs": [],
      "source": [
        "from sklearn.metrics import mean_squared_error\n",
        "\n",
        "mean_squared_error(temp_nn_model.predict(x_val_temp),y_val_temp)"
      ]
    },
    {
      "cell_type": "markdown",
      "metadata": {
        "id": "5UetSMDiei9g"
      },
      "source": [
        "### neural net multiple linear reg"
      ]
    },
    {
      "cell_type": "code",
      "execution_count": null,
      "metadata": {
        "id": "vPu_kW1Qf-lu"
      },
      "outputs": [],
      "source": [
        "multi_nn_norm = tf.keras.layers.Normalization(input_shape=(6,), axis=None)\n",
        "multi_nn_norm.adapt(x_train)\n",
        "\n",
        "multi_reg_nn_model = tf.keras.Sequential([\n",
        "    multi_nn_norm,\n",
        "    tf.keras.layers.Dense(32, activation='relu'),\n",
        "    # tf.keras.layers.Dropout(0.2),\n",
        "    tf.keras.layers.Dense(16, activation='relu'),\n",
        "    # tf.keras.layers.Dropout(0.2),\n",
        "    tf.keras.layers.Dense(1, activation='relu')\n",
        "])\n",
        "\n",
        "multi_reg_nn_model.compile(\n",
        "    loss = 'mean_squared_error',\n",
        "    optimizer = tf.keras.optimizers.Adam(learning_rate=0.001)\n",
        ")\n",
        "\n",
        "history = multi_reg_nn_model.fit(\n",
        "    x_train,y_train,\n",
        "    validation_data=(x_val,y_val),\n",
        "    epochs=100,\n",
        "    # batch_size=\n",
        "    verbose=0,\n",
        ")\n"
      ]
    },
    {
      "cell_type": "code",
      "execution_count": null,
      "metadata": {
        "id": "6sh-vo2iC8U5"
      },
      "outputs": [],
      "source": [
        "plot_loss(history)"
      ]
    },
    {
      "cell_type": "code",
      "execution_count": null,
      "metadata": {
        "id": "dSRweWwODa83"
      },
      "outputs": [],
      "source": [
        "multi_reg_nn_model.evaluate(x_val,y_val)"
      ]
    },
    {
      "cell_type": "markdown",
      "metadata": {
        "id": "1frikT_QxFjl"
      },
      "source": [
        "### neural networks for simple linear regression 2"
      ]
    },
    {
      "cell_type": "code",
      "execution_count": null,
      "metadata": {
        "id": "afmkVX6X1cf3"
      },
      "outputs": [],
      "source": [
        "def plot_loss(history):\n",
        "  plt.figure(figsize=(5,3))\n",
        "  plt.plot(history.history['loss'], label='loss')\n",
        "  plt.plot(history.history['val_loss'], label='val_loss')\n",
        "  plt.xlabel('epochs')\n",
        "  plt.ylabel('MSE')\n",
        "  plt.legend()\n",
        "  plt.grid(True)\n",
        "  plt.show()"
      ]
    },
    {
      "cell_type": "code",
      "execution_count": null,
      "metadata": {
        "id": "ACgq09fUxE2t"
      },
      "outputs": [],
      "source": [
        "temp_normalizer = tf.keras.layers.Normalization(input_shape=(1,), axis=None)\n",
        "temp_normalizer.adapt(x_train_temp.reshape(-1))\n",
        "\n",
        "temp_nn_model = tf.keras.Sequential([\n",
        "    temp_normalizer,\n",
        "    tf.keras.layers.Dense(128, activation='relu'),\n",
        "    tf.keras.layers.Dense(128, activation='relu'),\n",
        "    tf.keras.layers.Dense(64, activation='relu'),\n",
        "    tf.keras.layers.Dense(64, activation='relu'),\n",
        "    tf.keras.layers.Dense(32, activation='relu'),\n",
        "    tf.keras.layers.Dense(32, activation='relu'),\n",
        "    tf.keras.layers.Dense(16, activation='relu'),\n",
        "    tf.keras.layers.Dense(16, activation='relu'),\n",
        "    tf.keras.layers.Dense(1, activation='relu')\n",
        "])\n",
        "\n",
        "temp_nn_model.compile(\n",
        "    loss = \"mean_squared_error\",\n",
        "    optimizer=tf.keras.optimizers.Adam(learning_rate=0.01)\n",
        ")\n",
        "\n",
        "history = temp_nn_model.fit(\n",
        "    x_train_temp.reshape(-1), y_train_temp,\n",
        "    epochs = 100,\n",
        "    validation_data = (x_val_temp.reshape(-1),y_val_temp),\n",
        "    verbose = 0\n",
        "    )\n"
      ]
    },
    {
      "cell_type": "code",
      "execution_count": null,
      "metadata": {
        "id": "fPR8Lpee1iEA"
      },
      "outputs": [],
      "source": [
        "plot_loss(history)"
      ]
    },
    {
      "cell_type": "code",
      "execution_count": null,
      "metadata": {
        "id": "m2tnMnaBMVDX"
      },
      "outputs": [],
      "source": [
        "temp_nn_model.evaluate(x_val_temp,y_val_temp)"
      ]
    },
    {
      "cell_type": "code",
      "execution_count": null,
      "metadata": {
        "id": "gogjKdf32n33"
      },
      "outputs": [],
      "source": [
        "plt.figure(figsize=(6,4))\n",
        "plt.scatter(x_train_temp, y_train_temp, label = 'Data', color='Blue')\n",
        "plt.xlabel('temp')\n",
        "plt.ylabel('no of bike rentals')\n",
        "\n",
        "x = tf.linspace(-20,40,100)\n",
        "plt.plot(x, temp_nn_model.predict(np.array(x).reshape(-1,1)), label = 'pred', color = 'red')\n",
        "\n",
        "plt.legend()\n",
        "plt.show()"
      ]
    },
    {
      "cell_type": "markdown",
      "metadata": {
        "id": "XfL3R3De-LYo"
      },
      "source": [
        "### neural net multiple linear reg 2"
      ]
    },
    {
      "cell_type": "code",
      "execution_count": null,
      "metadata": {
        "id": "7w25mhehAdER"
      },
      "outputs": [],
      "source": [
        "def plot_loss(history):\n",
        "  plt.plot(history.history['loss'], label='train loss')\n",
        "  plt.plot(history.history['val_loss'], label='val loss')\n",
        "  plt.title('loss')\n",
        "  plt.xlabel('epochs')\n",
        "  plt.ylabel('MSE')\n",
        "  plt.grid(True)\n",
        "  plt.legend()\n",
        "  plt.show()"
      ]
    },
    {
      "cell_type": "code",
      "execution_count": null,
      "metadata": {
        "id": "Ch-VTahduIGQ"
      },
      "outputs": [],
      "source": [
        "x_train.shape"
      ]
    },
    {
      "cell_type": "code",
      "execution_count": null,
      "metadata": {
        "id": "qQaPrAzp2kS6"
      },
      "outputs": [],
      "source": [
        "multi_reg_nn_normalizer_2 = tf.keras.layers.Normalization(input_shape=(6,),axis=None)\n",
        "multi_reg_nn_normalizer_2.adapt(x_train)\n",
        "\n",
        "multi_reg_nn_model = tf.keras.Sequential([\n",
        "    multi_reg_nn_normalizer_2,\n",
        "    tf.keras.layers.Dense(128, activation='relu'),\n",
        "    tf.keras.layers.Dense(128, activation='relu'),\n",
        "    tf.keras.layers.Dense(64, activation='relu'),\n",
        "    tf.keras.layers.Dense(64, activation='relu'),\n",
        "    tf.keras.layers.Dense(32, activation='relu'),\n",
        "    tf.keras.layers.Dense(32, activation='relu'),\n",
        "    tf.keras.layers.Dense(16, activation='relu'),\n",
        "    tf.keras.layers.Dense(16, activation='relu'),\n",
        "    tf.keras.layers.Dense(1, activation='relu')\n",
        "])\n",
        "\n",
        "multi_reg_nn_model.compile(\n",
        "    tf.keras.optimizers.Adam(learning_rate=0.001),\n",
        "    loss = 'mean_squared_error'\n",
        ")\n",
        "\n",
        "history = multi_reg_nn_model.fit(\n",
        "  x_train, y_train,\n",
        "  epochs = 100,\n",
        "  # batch_size=\n",
        "  validation_data = (x_val,y_val),\n",
        "  verbose=0\n",
        ")\n"
      ]
    },
    {
      "cell_type": "code",
      "execution_count": null,
      "metadata": {
        "id": "tiUMPGEOAceI"
      },
      "outputs": [],
      "source": [
        "plot_loss(history)"
      ]
    },
    {
      "cell_type": "code",
      "execution_count": null,
      "metadata": {
        "id": "3Gi2aipiwZdK"
      },
      "outputs": [],
      "source": [
        "multi_reg_nn_model.evaluate(x_val,y_val)"
      ]
    },
    {
      "cell_type": "markdown",
      "metadata": {
        "id": "Eycd18BBKQyn"
      },
      "source": [
        "### comparing sklearn linear regression was neural net linear regression"
      ]
    },
    {
      "cell_type": "code",
      "execution_count": null,
      "metadata": {
        "id": "tYrTDxBHLkV8"
      },
      "outputs": [],
      "source": [
        "def mean_squared_error(y_preds,y_true):\n",
        "  return (np.square(y_preds - y_true)).mean()"
      ]
    },
    {
      "cell_type": "code",
      "execution_count": null,
      "metadata": {
        "id": "0Q2ua2nEasj4"
      },
      "outputs": [],
      "source": [
        "y_preds_mult_lin_reg = mult_lin_reg.predict(x_val)\n",
        "y_preds_multi_reg_nn_model = multi_reg_nn_model.predict(x_val)"
      ]
    },
    {
      "cell_type": "code",
      "execution_count": null,
      "metadata": {
        "id": "8IwbjTZyLDK0"
      },
      "outputs": [],
      "source": [
        "print(mean_squared_error(y_preds_mult_lin_reg,y_val))\n",
        "print(mean_squared_error(y_preds_multi_reg_nn_model,y_val))"
      ]
    },
    {
      "cell_type": "code",
      "execution_count": null,
      "metadata": {
        "id": "p2p5jGxVjCk3"
      },
      "outputs": [],
      "source": [
        "df['bike_count'].max()"
      ]
    },
    {
      "cell_type": "code",
      "execution_count": null,
      "metadata": {
        "colab": {
          "background_save": true
        },
        "id": "ZUI8CEwIbB3q"
      },
      "outputs": [],
      "source": [
        "plt.figure(figsize=(10,6))\n",
        "ax = plt.axes(aspect='equal')\n",
        "plt.scatter(y_preds_mult_lin_reg,y_val,label='lin_reg_preds',color='blue')\n",
        "plt.scatter(y_preds_multi_reg_nn_model,y_val,label='nn_preds',color='orange')\n",
        "plt.ylabel('predictions')\n",
        "plt.xlabel('actual values')\n",
        "limits=[0,1800]\n",
        "plt.xlim(limits)\n",
        "plt.ylim(limits)\n",
        "plt.plot(y_val,y_val, label='', color='red')\n",
        "plt.legend()\n",
        "plt.show()"
      ]
    },
    {
      "cell_type": "code",
      "execution_count": null,
      "metadata": {
        "id": "lgTYXxUmrxxl"
      },
      "outputs": [],
      "source": []
    }
  ],
  "metadata": {
    "colab": {
      "collapsed_sections": [
        "UCIkUyOmJQzd",
        "1so6XwAuK45s",
        "OL64k2miH4HR",
        "caJQDZsiIAQ6",
        "ZAeNT1rAoQNQ",
        "5UetSMDiei9g",
        "1frikT_QxFjl",
        "XfL3R3De-LYo"
      ],
      "provenance": [],
      "authorship_tag": "ABX9TyPvH5iAHUnETSjo+ehJdSvJ",
      "include_colab_link": true
    },
    "kernelspec": {
      "display_name": "Python 3",
      "name": "python3"
    },
    "language_info": {
      "name": "python"
    }
  },
  "nbformat": 4,
  "nbformat_minor": 0
}