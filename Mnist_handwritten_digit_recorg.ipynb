{
  "nbformat": 4,
  "nbformat_minor": 0,
  "metadata": {
    "colab": {
      "provenance": [],
      "authorship_tag": "ABX9TyPAD0GqT02hxQpFcp9j23fD",
      "include_colab_link": true
    },
    "kernelspec": {
      "name": "python3",
      "display_name": "Python 3"
    },
    "language_info": {
      "name": "python"
    }
  },
  "cells": [
    {
      "cell_type": "markdown",
      "metadata": {
        "id": "view-in-github",
        "colab_type": "text"
      },
      "source": [
        "<a href=\"https://colab.research.google.com/github/Pradeep1070/Seoul-Bike-Sharing-Demand-Prediction/blob/main/Mnist_handwritten_digit_recorg.ipynb\" target=\"_parent\"><img src=\"https://colab.research.google.com/assets/colab-badge.svg\" alt=\"Open In Colab\"/></a>"
      ]
    },
    {
      "cell_type": "code",
      "source": [
        "import tensorflow as tf\n",
        "from tensorflow import keras\n",
        "import matplotlib.pyplot as plt\n",
        "%matplotlib inline\n",
        "import numpy as np"
      ],
      "metadata": {
        "id": "sDGB4_DCnV2E"
      },
      "execution_count": null,
      "outputs": []
    },
    {
      "cell_type": "markdown",
      "source": [
        "Load Data"
      ],
      "metadata": {
        "id": "jLfN5XUmL4YM"
      }
    },
    {
      "cell_type": "code",
      "source": [
        "(X_train,y_train), (X_test,y_test) = keras.datasets.mnist.load_data()"
      ],
      "metadata": {
        "id": "8e8EssU6nYVX",
        "colab": {
          "base_uri": "https://localhost:8080/"
        },
        "outputId": "2da0785e-fc16-4af5-916c-c84c6c7c250b"
      },
      "execution_count": null,
      "outputs": [
        {
          "output_type": "stream",
          "name": "stdout",
          "text": [
            "Downloading data from https://storage.googleapis.com/tensorflow/tf-keras-datasets/mnist.npz\n",
            "11490434/11490434 [==============================] - 0s 0us/step\n"
          ]
        }
      ]
    },
    {
      "cell_type": "code",
      "source": [
        "X_train.shape\n",
        "X_train[0].shape"
      ],
      "metadata": {
        "colab": {
          "base_uri": "https://localhost:8080/"
        },
        "id": "9qad2rtQ3IqH",
        "outputId": "6f6378cf-8269-4520-cd30-0c62870e7b83"
      },
      "execution_count": null,
      "outputs": [
        {
          "output_type": "execute_result",
          "data": {
            "text/plain": [
              "(28, 28)"
            ]
          },
          "metadata": {},
          "execution_count": 3
        }
      ]
    },
    {
      "cell_type": "code",
      "source": [
        "xTFlat =  X_train"
      ],
      "metadata": {
        "id": "AnMHCs8HKpJS"
      },
      "execution_count": null,
      "outputs": []
    },
    {
      "cell_type": "code",
      "source": [
        "X_train[0]"
      ],
      "metadata": {
        "id": "_TmwXXcK3OjG"
      },
      "execution_count": null,
      "outputs": []
    },
    {
      "cell_type": "code",
      "source": [
        "plt.matshow(X_train[1000])"
      ],
      "metadata": {
        "id": "yreAHVV73leo"
      },
      "execution_count": null,
      "outputs": []
    },
    {
      "cell_type": "markdown",
      "source": [
        "PreProscess"
      ],
      "metadata": {
        "id": "tedvBqnSL_qN"
      }
    },
    {
      "cell_type": "code",
      "source": [
        "#scaling pixel values\n",
        "X_train = X_train / 255\n",
        "X_test = X_test / 255"
      ],
      "metadata": {
        "id": "vrWJ9sRj6FYb"
      },
      "execution_count": null,
      "outputs": []
    },
    {
      "cell_type": "code",
      "source": [
        "X_train_flattened = X_train.reshape(len(X_train),28*28) #2ds of a pixel map into 1d so that we can feed it into a single input layer of networks\n",
        "X_test_flattened = X_test.reshape(len(X_test),28*28)"
      ],
      "metadata": {
        "id": "ga-KN9_u5Pco"
      },
      "execution_count": null,
      "outputs": []
    },
    {
      "cell_type": "code",
      "source": [
        "X_train_flattened.shape"
      ],
      "metadata": {
        "colab": {
          "base_uri": "https://localhost:8080/"
        },
        "id": "Xo7DB217Dndq",
        "outputId": "c46f16d5-f8b3-4ffc-ce7d-f575818573e2"
      },
      "execution_count": null,
      "outputs": [
        {
          "output_type": "execute_result",
          "data": {
            "text/plain": [
              "(60000, 784)"
            ]
          },
          "metadata": {},
          "execution_count": 30
        }
      ]
    },
    {
      "cell_type": "code",
      "source": [
        "X_test[0]"
      ],
      "metadata": {
        "id": "_JXBy21S6chn"
      },
      "execution_count": null,
      "outputs": []
    },
    {
      "cell_type": "markdown",
      "source": [
        "Model 1"
      ],
      "metadata": {
        "id": "equEhzACMEFm"
      }
    },
    {
      "cell_type": "code",
      "source": [
        "#sequantial -> layers are to come sequentialy\n",
        "#dense layer - every input connected to every neuron\n",
        "model = keras.Sequential([\n",
        "    keras.layers.Dense(10, input_shape=(784,), activation='sigmoid')\n",
        "                 ])\n",
        "\n",
        "model.compile(\n",
        "    loss='sparse_categorical_crossentropy',\n",
        "    optimizer='adam',\n",
        "    metrics=['accuracy']\n",
        ")\n",
        "\n",
        "model.fit(X_train_flattened, y_train, epochs=5)\n",
        "#epoch - no of iterations"
      ],
      "metadata": {
        "colab": {
          "base_uri": "https://localhost:8080/"
        },
        "id": "6-qZxmLR6xT4",
        "outputId": "7f117f39-b35d-4904-af8f-1b1e9c830ee8"
      },
      "execution_count": null,
      "outputs": [
        {
          "output_type": "stream",
          "name": "stdout",
          "text": [
            "Epoch 1/5\n",
            "1875/1875 [==============================] - 4s 2ms/step - loss: 0.4716 - accuracy: 0.8781\n",
            "Epoch 2/5\n",
            "1875/1875 [==============================] - 3s 2ms/step - loss: 0.3044 - accuracy: 0.9156\n",
            "Epoch 3/5\n",
            "1875/1875 [==============================] - 4s 2ms/step - loss: 0.2840 - accuracy: 0.9210\n",
            "Epoch 4/5\n",
            "1875/1875 [==============================] - 3s 2ms/step - loss: 0.2730 - accuracy: 0.9239\n",
            "Epoch 5/5\n",
            "1875/1875 [==============================] - 3s 2ms/step - loss: 0.2669 - accuracy: 0.9255\n"
          ]
        },
        {
          "output_type": "execute_result",
          "data": {
            "text/plain": [
              "<keras.src.callbacks.History at 0x7978da438be0>"
            ]
          },
          "metadata": {},
          "execution_count": 21
        }
      ]
    },
    {
      "cell_type": "markdown",
      "source": [
        "Sparse categorical crossentropy vs catergorical crossentropy\n",
        "\n",
        " This loss function is commonly employed when dealing with problems where the target variable is categorical (i.e., it takes discrete class labels), and the classes are mutually exclusive.\n",
        "\n",
        "In the case of sparse categorical crossentropy, the target variable is expected to be provided as integers (class indices), rather than one-hot encoded vectors. This is convenient when dealing with a large number of classes, as it avoids the need to explicitly convert class labels into one-hot encoded vectors.\n",
        "\n",
        "The mathematical expression for sparse categorical crossentropy is similar to the standard categorical crossentropy, but it simplifies the process of specifying the target labels."
      ],
      "metadata": {
        "id": "Zd7bGs9jBXmd"
      }
    },
    {
      "cell_type": "markdown",
      "source": [
        "adam is the default choise for optimizers. optimizers optimize back propagation"
      ],
      "metadata": {
        "id": "l-6-SGfxB0bP"
      }
    },
    {
      "cell_type": "markdown",
      "source": [
        "Adam (Adaptive Moment Estimation):\n",
        "\n",
        "Advantages: Generally performs well across a wide range of tasks. It adapts the learning rates for each parameter individually.\n",
        "Usage: A good default choice when you're unsure which optimizer to use.\n",
        "\n",
        "\n",
        "SGD (Stochastic Gradient Descent):\n",
        "Advantages: Simple and computationally efficient. Can be effective with proper tuning.\n",
        "Usage: Suitable for large datasets and simpler models. May require careful tuning of learning rate.\n",
        "\n",
        "\n",
        "RMSprop (Root Mean Square Propagation):\n",
        "\n",
        "Advantages: Similar to Adam, adapts learning rates. Can be effective in some cases.\n",
        "Usage: Experiment when Adam does not perform well, especially in recurrent neural networks."
      ],
      "metadata": {
        "id": "NAiSNpvTCWVu"
      }
    },
    {
      "cell_type": "code",
      "source": [
        "model.evaluate(X_test_flattened,y_test)"
      ],
      "metadata": {
        "id": "Jffgg57VBz7l",
        "colab": {
          "base_uri": "https://localhost:8080/"
        },
        "outputId": "4f7d2ddd-5f78-4b43-bcbf-66f0b9670a53"
      },
      "execution_count": null,
      "outputs": [
        {
          "output_type": "stream",
          "name": "stdout",
          "text": [
            "313/313 [==============================] - 1s 1ms/step - loss: 0.2657 - accuracy: 0.9256\n"
          ]
        },
        {
          "output_type": "execute_result",
          "data": {
            "text/plain": [
              "[0.2657184302806854, 0.925599992275238]"
            ]
          },
          "metadata": {},
          "execution_count": 22
        }
      ]
    },
    {
      "cell_type": "code",
      "source": [
        "model.predict(X_test_flattened) #predict complete test set. send in a 2d array with one datapoint to predict one datapoint"
      ],
      "metadata": {
        "colab": {
          "base_uri": "https://localhost:8080/"
        },
        "id": "-EDRuj-dImkK",
        "outputId": "909f7978-49b4-40ca-ba37-9471f8ea3425"
      },
      "execution_count": null,
      "outputs": [
        {
          "output_type": "stream",
          "name": "stdout",
          "text": [
            "313/313 [==============================] - 0s 1ms/step\n"
          ]
        },
        {
          "output_type": "execute_result",
          "data": {
            "text/plain": [
              "array([[1.2156656e-02, 4.3632025e-07, 7.3772274e-02, ..., 9.9977517e-01,\n",
              "        8.2661100e-02, 6.7864066e-01],\n",
              "       [4.2396647e-01, 6.6406475e-03, 9.9924999e-01, ..., 5.2492234e-13,\n",
              "        1.4324686e-01, 3.9363797e-09],\n",
              "       [3.0196700e-04, 9.9359727e-01, 6.2443292e-01, ..., 1.3217741e-01,\n",
              "        3.7675926e-01, 5.5103123e-02],\n",
              "       ...,\n",
              "       [1.7588899e-06, 3.5322673e-06, 1.0918494e-03, ..., 1.6706653e-01,\n",
              "        4.8809776e-01, 7.7745497e-01],\n",
              "       [7.0032926e-05, 1.5301151e-04, 9.6156960e-05, ..., 2.7832382e-05,\n",
              "        6.1663532e-01, 1.6064504e-04],\n",
              "       [3.3871764e-03, 5.2073690e-10, 1.2553401e-01, ..., 5.1576117e-09,\n",
              "        1.4016060e-04, 1.3610437e-06]], dtype=float32)"
            ]
          },
          "metadata": {},
          "execution_count": 23
        }
      ]
    },
    {
      "cell_type": "code",
      "source": [
        "print(model.predict(np.array([X_test_flattened[0]])))\n",
        "\n",
        "print('\\n',type(X_test_flattened[0]))\n",
        "print(type(np.array([X_test_flattened[0]])))"
      ],
      "metadata": {
        "id": "P5WzR887BaZD",
        "colab": {
          "base_uri": "https://localhost:8080/"
        },
        "outputId": "c7b10b0e-e560-442c-d9a6-f78fa2dcc6db"
      },
      "execution_count": null,
      "outputs": [
        {
          "output_type": "stream",
          "name": "stdout",
          "text": [
            "1/1 [==============================] - 0s 25ms/step\n",
            "[[1.2156656e-02 4.3632068e-07 7.3772296e-02 9.6438527e-01 3.3925907e-03\n",
            "  9.7611770e-02 1.6333360e-06 9.9977517e-01 8.2661144e-02 6.7864066e-01]]\n",
            "\n",
            " <class 'numpy.ndarray'>\n",
            "<class 'numpy.ndarray'>\n"
          ]
        }
      ]
    },
    {
      "cell_type": "code",
      "source": [
        "yPredict = model.predict(X_test_flattened)\n",
        "yPredict[0]"
      ],
      "metadata": {
        "colab": {
          "base_uri": "https://localhost:8080/"
        },
        "id": "AbQIpC7m00y3",
        "outputId": "6f32b159-0031-4fc8-a3e6-15b4ac00f8e1"
      },
      "execution_count": null,
      "outputs": [
        {
          "output_type": "stream",
          "name": "stdout",
          "text": [
            "313/313 [==============================] - 0s 1ms/step\n"
          ]
        },
        {
          "output_type": "execute_result",
          "data": {
            "text/plain": [
              "array([1.2156656e-02, 4.3632025e-07, 7.3772274e-02, 9.6438533e-01,\n",
              "       3.3925890e-03, 9.7611688e-02, 1.6333406e-06, 9.9977517e-01,\n",
              "       8.2661100e-02, 6.7864066e-01], dtype=float32)"
            ]
          },
          "metadata": {},
          "execution_count": 32
        }
      ]
    },
    {
      "cell_type": "code",
      "source": [
        "print(plt.matshow(X_test[100]))\n",
        "print(np.argmax(yPredict[100]))#get max value"
      ],
      "metadata": {
        "colab": {
          "base_uri": "https://localhost:8080/",
          "height": 473
        },
        "id": "btpZN69F1BSA",
        "outputId": "76f68d5a-4154-4e3e-c85a-6d6857723bb7"
      },
      "execution_count": null,
      "outputs": [
        {
          "output_type": "stream",
          "name": "stdout",
          "text": [
            "AxesImage(size=(28, 28))\n",
            "6\n"
          ]
        },
        {
          "output_type": "display_data",
          "data": {
            "text/plain": [
              "<Figure size 480x480 with 1 Axes>"
            ],
            "image/png": "[encoded data removed]"
          },
          "metadata": {}
        }
      ]
    },
    {
      "cell_type": "code",
      "source": [
        "preds=[np.argmax(i) for i in yPredict]\n",
        "\n",
        "cm = tf.math.confusion_matrix(labels=y_test, predictions=preds)"
      ],
      "metadata": {
        "id": "iwyCCxPsSSvF"
      },
      "execution_count": null,
      "outputs": []
    },
    {
      "cell_type": "code",
      "source": [
        "import seaborn as sn\n",
        "\n",
        "plt.figure(figsize=(5,3.5))\n",
        "sn.heatmap(cm, annot=True, fmt='d')\n",
        "plt.xlabel('Predicted')\n",
        "plt.ylabel('Truth')"
      ],
      "metadata": {
        "colab": {
          "base_uri": "https://localhost:8080/",
          "height": 367
        },
        "id": "2Y4OQmE1T0sS",
        "outputId": "6fec3775-1c79-4710-a049-ca1a7edb7986"
      },
      "execution_count": null,
      "outputs": [
        {
          "output_type": "execute_result",
          "data": {
            "text/plain": [
              "Text(33.22222222222222, 0.5, 'Truth')"
            ]
          },
          "metadata": {},
          "execution_count": 38
        },
        {
          "output_type": "display_data",
          "data": {
            "text/plain": [
              "<Figure size 500x350 with 2 Axes>"
            ],
            "image/png": "[encoded data removed]"
          },
          "metadata": {}
        }
      ]
    },
    {
      "cell_type": "markdown",
      "source": [
        "**adding hidden layer**\n",
        "\n",
        "\n",
        "\n"
      ],
      "metadata": {
        "id": "5tITikieVXN1"
      }
    },
    {
      "cell_type": "code",
      "source": [
        "len(X_train_flattened)"
      ],
      "metadata": {
        "colab": {
          "base_uri": "https://localhost:8080/"
        },
        "id": "euBmXLlGuwcr",
        "outputId": "32619117-2428-4f65-8787-ff7797b890c5"
      },
      "execution_count": null,
      "outputs": [
        {
          "output_type": "execute_result",
          "data": {
            "text/plain": [
              "60000"
            ]
          },
          "metadata": {},
          "execution_count": 74
        }
      ]
    },
    {
      "cell_type": "code",
      "source": [
        "model2= keras.Sequential([\n",
        "    keras.layers.Dense(500,input_shape=(784,),activation='relu'),\n",
        "    keras.layers.Dense(70,activation='relu'),\n",
        "    keras.layers.Dense(10,activation='sigmoid')\n",
        "])\n",
        "# relu is more efficient and helps to mitigate vanishing  gradient problem\n",
        "# sigmoid, tanh subject to  vanishing gradient\n",
        "# sigmoid commonly used for the final layer of binary classifiers because it gives a probability for each class\n",
        "\n",
        "model2.compile(\n",
        "    loss='sparse_categorical_crossentropy',\n",
        "    optimizer='adam',\n",
        "    metrics=['accuracy']\n",
        ")\n",
        "\n",
        "slice=1\n",
        "X_train_flattened_sliced=X_train_flattened[:int(len(X_train_flattened)/slice)]\n",
        "y_train_sliced=y_train[:int(len(y_train)/slice)]\n",
        "\n",
        "model2.fit(X_train_flattened_sliced,y_train_sliced,epochs=5)"
      ],
      "metadata": {
        "colab": {
          "base_uri": "https://localhost:8080/"
        },
        "id": "wiKkctbZrojY",
        "outputId": "4851b30e-e626-43b8-c72f-e50a20f0ddf1"
      },
      "execution_count": null,
      "outputs": [
        {
          "output_type": "stream",
          "name": "stdout",
          "text": [
            "Epoch 1/5\n",
            "1875/1875 [==============================] - 17s 8ms/step - loss: 0.1944 - accuracy: 0.9424\n",
            "Epoch 2/5\n",
            "1875/1875 [==============================] - 14s 8ms/step - loss: 0.0804 - accuracy: 0.9746\n",
            "Epoch 3/5\n",
            "1875/1875 [==============================] - 15s 8ms/step - loss: 0.0544 - accuracy: 0.9824\n",
            "Epoch 4/5\n",
            "1875/1875 [==============================] - 15s 8ms/step - loss: 0.0403 - accuracy: 0.9869\n",
            "Epoch 5/5\n",
            "1875/1875 [==============================] - 14s 7ms/step - loss: 0.0322 - accuracy: 0.9892\n"
          ]
        },
        {
          "output_type": "execute_result",
          "data": {
            "text/plain": [
              "<keras.src.callbacks.History at 0x7c3a3c305ea0>"
            ]
          },
          "metadata": {},
          "execution_count": 102
        }
      ]
    },
    {
      "cell_type": "code",
      "source": [
        "len(X_train_flattened_sliced)"
      ],
      "metadata": {
        "colab": {
          "base_uri": "https://localhost:8080/"
        },
        "id": "GrnRvTBfwpIw",
        "outputId": "46998f9b-1d02-4d82-8ab0-5d0f4e1440c6"
      },
      "execution_count": null,
      "outputs": [
        {
          "output_type": "execute_result",
          "data": {
            "text/plain": [
              "1200"
            ]
          },
          "metadata": {},
          "execution_count": 96
        }
      ]
    },
    {
      "cell_type": "code",
      "source": [
        "model2.predict(X_test_flattened)"
      ],
      "metadata": {
        "colab": {
          "base_uri": "https://localhost:8080/"
        },
        "id": "rz4eJDyBtJjw",
        "outputId": "5e21c22b-c91d-4d3f-bfaa-d90ad49f39c4"
      },
      "execution_count": null,
      "outputs": [
        {
          "output_type": "stream",
          "name": "stdout",
          "text": [
            "313/313 [==============================] - 1s 4ms/step\n"
          ]
        },
        {
          "output_type": "execute_result",
          "data": {
            "text/plain": [
              "array([[0.39858404, 0.5411606 , 0.55263776, ..., 0.4984232 , 0.5588882 ,\n",
              "        0.4814396 ],\n",
              "       [0.42581153, 0.58829147, 0.5946837 , ..., 0.48016503, 0.60915416,\n",
              "        0.5534137 ],\n",
              "       [0.45198482, 0.4636748 , 0.44913948, ..., 0.41399628, 0.4870983 ,\n",
              "        0.41431186],\n",
              "       ...,\n",
              "       [0.3608722 , 0.39479464, 0.38418472, ..., 0.50671446, 0.4323675 ,\n",
              "        0.5450257 ],\n",
              "       [0.50887203, 0.46383297, 0.5322279 , ..., 0.53083014, 0.6100261 ,\n",
              "        0.35454378],\n",
              "       [0.40144044, 0.6019571 , 0.49698728, ..., 0.36891204, 0.58144075,\n",
              "        0.5785871 ]], dtype=float32)"
            ]
          },
          "metadata": {},
          "execution_count": 69
        }
      ]
    },
    {
      "cell_type": "code",
      "source": [
        "print(\"%0.2f accuracy with a standard deviation of %0.2f\" % (0.2568, 156.359))"
      ],
      "metadata": {
        "colab": {
          "base_uri": "https://localhost:8080/"
        },
        "id": "I0dHiBq5tsd1",
        "outputId": "b3c97561-09f9-4f31-a4fe-1ce644b24cff"
      },
      "execution_count": null,
      "outputs": [
        {
          "output_type": "stream",
          "name": "stdout",
          "text": [
            "0.26 accuracy with a standard deviation of 156.36\n"
          ]
        }
      ]
    },
    {
      "cell_type": "code",
      "source": [
        "from sklearn.datasets import make_classification\n",
        "\n",
        "# Create a synthetic dataset (replace this with your own data)\n",
        "X, y = make_classification(n_samples=1000, n_features=20, n_informative=2, n_redundant=10, n_classes=2, random_state=42)\n"
      ],
      "metadata": {
        "id": "mpHouwBL5KqH"
      },
      "execution_count": null,
      "outputs": []
    },
    {
      "cell_type": "code",
      "source": [
        "X"
      ],
      "metadata": {
        "id": "D9mhzfwV-Zh1",
        "outputId": "61a45f05-e16a-41fc-bc01-edca15d0f91b",
        "colab": {
          "base_uri": "https://localhost:8080/"
        }
      },
      "execution_count": null,
      "outputs": [
        {
          "output_type": "execute_result",
          "data": {
            "text/plain": [
              "array([[-0.49693203, -0.33912228,  0.22914552, ..., -1.17927302,\n",
              "         0.45780561,  0.35600629],\n",
              "       [ 0.01249932,  1.00744397,  0.14009566, ..., -1.76385344,\n",
              "         0.93791554,  0.45936344],\n",
              "       [-0.72021202, -1.24448645, -0.47229097, ...,  0.41394755,\n",
              "        -0.5387903 , -0.26636053],\n",
              "       ...,\n",
              "       [ 1.01027459, -0.13092581,  1.18030384, ..., -1.98959095,\n",
              "        -0.80579965,  0.88702644],\n",
              "       [-1.20775939, -0.3807634 ,  0.12906749, ..., -0.77725344,\n",
              "         0.59910333,  0.22671772],\n",
              "       [ 1.14356604, -0.42459817, -0.31394763, ...,  1.24769039,\n",
              "        -0.30704834, -0.40246308]])"
            ]
          },
          "metadata": {},
          "execution_count": 106
        }
      ]
    },
    {
      "cell_type": "code",
      "source": [],
      "metadata": {
        "id": "WVFsf0SR-aJz"
      },
      "execution_count": null,
      "outputs": []
    }
  ]
}