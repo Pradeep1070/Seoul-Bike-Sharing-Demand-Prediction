{
 "cells": [
  {
   "cell_type": "code",
   "execution_count": 46,
   "source": [
    "from string import punctuation\r\n",
    "from sklearn.feature_extraction.text import CountVectorizer\r\n",
    "from sklearn.feature_extraction.text import TfidfTransformer\r\n",
    "from sklearn.linear_model import LogisticRegression\r\n",
    "from sklearn.model_selection import train_test_split"
   ],
   "outputs": [],
   "metadata": {}
  },
  {
   "cell_type": "code",
   "execution_count": 36,
   "source": [
    "def preprocess(lst):\r\n",
    "    allWebSites=[]\r\n",
    "    for l in lst:\r\n",
    "        webSiteWords=[]\r\n",
    "        if l!='':\r\n",
    "            for w in l.split(' '):\r\n",
    "                if w not in punctuation:\r\n",
    "                    append=1\r\n",
    "                    for l in w:\r\n",
    "                        if not (l.isnumeric() or l.isalpha()):\r\n",
    "                            append=0\r\n",
    "                    if append==1:\r\n",
    "                        webSiteWords.append(w)\r\n",
    "        if webSiteWords:\r\n",
    "            allWebSites.append(' '.join(webSiteWords))\r\n",
    "\r\n",
    "    return allWebSites"
   ],
   "outputs": [],
   "metadata": {}
  },
  {
   "cell_type": "code",
   "execution_count": 37,
   "source": [
    "f1 = open(\"D:\\\\#Data_science\\\\Resesrch\\\\naveen - network classificaation\\\\Graphics Multimedia.txt\",encoding='utf-8').read()\r\n",
    "graphic=preprocess(f1.split('\\n'))\r\n",
    "\r\n",
    "f2 = open(\"D:\\\\#Data_science\\\\Resesrch\\\\naveen - network classificaation\\\\prgraming.txt\",encoding='utf-8').read()\r\n",
    "programing=preprocess(f2.split('\\n'))"
   ],
   "outputs": [],
   "metadata": {}
  },
  {
   "cell_type": "code",
   "execution_count": 39,
   "source": [
    "x=[]\r\n",
    "y=[]\r\n",
    "\r\n",
    "for i in graphic:\r\n",
    "    x.append(i)\r\n",
    "    y.append(1)\r\n",
    "\r\n",
    "for i in programing:\r\n",
    "    x.append(i)\r\n",
    "    y.append(2)"
   ],
   "outputs": [],
   "metadata": {}
  },
  {
   "cell_type": "code",
   "execution_count": 41,
   "source": [
    "count_vect = CountVectorizer()\r\n",
    "X_train_counts = count_vect.fit_transform(x)\r\n",
    "X_train_counts.shape"
   ],
   "outputs": [
    {
     "output_type": "execute_result",
     "data": {
      "text/plain": [
       "(19, 1543)"
      ]
     },
     "metadata": {},
     "execution_count": 41
    }
   ],
   "metadata": {}
  },
  {
   "cell_type": "code",
   "execution_count": 44,
   "source": [
    "tf_transformer = TfidfTransformer(use_idf=True)\r\n",
    "X_train_tf = tf_transformer.fit_transform(X_train_counts)\r\n",
    "X_train_tf.shape"
   ],
   "outputs": [
    {
     "output_type": "execute_result",
     "data": {
      "text/plain": [
       "(19, 1543)"
      ]
     },
     "metadata": {},
     "execution_count": 44
    }
   ],
   "metadata": {}
  },
  {
   "cell_type": "code",
   "execution_count": 48,
   "source": [
    "x_train, x_test, y_train, y_test = train_test_split(X_train_tf, y, test_size=0.4, stratify=y, random_state = 0)"
   ],
   "outputs": [],
   "metadata": {}
  },
  {
   "cell_type": "code",
   "execution_count": 49,
   "source": [
    "lr=LogisticRegression()\r\n",
    "lr.fit(x_train,y_train)\r\n",
    "lr.score(x_test,y_test)"
   ],
   "outputs": [
    {
     "output_type": "execute_result",
     "data": {
      "text/plain": [
       "0.625"
      ]
     },
     "metadata": {},
     "execution_count": 49
    }
   ],
   "metadata": {}
  },
  {
   "cell_type": "code",
   "execution_count": null,
   "source": [],
   "outputs": [],
   "metadata": {}
  }
 ],
 "metadata": {
  "orig_nbformat": 4,
  "language_info": {
   "name": "python",
   "version": "3.8.2",
   "mimetype": "text/x-python",
   "codemirror_mode": {
    "name": "ipython",
    "version": 3
   },
   "pygments_lexer": "ipython3",
   "nbconvert_exporter": "python",
   "file_extension": ".py"
  },
  "kernelspec": {
   "name": "python3",
   "display_name": "Python 3.8.2 64-bit"
  },
  "interpreter": {
   "hash": "56d738c7772affcbb9406b62ea03c3335d13b01087b0b22f0049ad34806b4a86"
  }
 },
 "nbformat": 4,
 "nbformat_minor": 2
}